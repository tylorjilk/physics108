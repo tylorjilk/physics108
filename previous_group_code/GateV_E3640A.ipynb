{
 "cells": [
  {
   "cell_type": "code",
   "execution_count": null,
   "metadata": {},
   "outputs": [],
   "source": [
    "import numpy as np\n",
    "import visa\n",
    "import time\n",
    "GateStep = 1####\n",
    "GateDelay = 0.05\n",
    "# initialize k2400.\n",
    "def initE3640A(instr):\n",
    "    rm = visa.ResourceManager()\n",
    "    E3640A = rm.open_resource(instr)\n",
    "    # set various k2400 parameters; see k2400 manual for the full selection\n",
    "    E3640A.write('SOUR:VOLT 0') # set voltage to zero\n",
    "    E3640A.write('SOUR:VOLT:RANG 20') # set voltage range\n",
    "    #k2400.write('FORM:ELEM VOLT, CURR') # set communications formatting \n",
    "    E3640A.write('OUTP ON') # turn on output\n",
    "    E3640A.write('CURR:PROT 100e-3') # set current compliance\n",
    "    return E3640A\n",
    "\n",
    "# read dc current from k2400\n",
    "def IreadE3640A(E3640A):\n",
    "    return E3640A.query_ascii_values(\"MEAS:CURR?\")[0]\n",
    "def VreadE3640A(E3640A):\n",
    "    return E3640A.query_ascii_values(\"MEAS:VOLT?\")[0]\n",
    "\n",
    "\n",
    "# set dc voltage\n",
    "def setE3640A(E3640A,target_v):\n",
    "    return E3640A.write('SOUR:VOLT %1.6f'%target_v)\n",
    "\n",
    "# sweep the dc voltage to target_v in small voltage steps with a specified delay.\n",
    "# differs from set2400, which sets voltage as fast as the instrument will go.\n",
    "def sweepE3640A(E3640A,target_v):\n",
    "    step  = GateStep\n",
    "    delay = GateDelay\n",
    "    cur_v = VreadE3640A(E3640A)\n",
    "    while abs(cur_v-target_v) > step:\n",
    "        if cur_v < target_v:\n",
    "            setE3640A(E3640A,cur_v+step)\n",
    "        else:\n",
    "            setE3640A(E3640A,cur_v-step)\n",
    "        time.sleep(delay)\n",
    "        cur_v = VreadE3640A(E3640A)\n",
    "    setE3640A(E3640A,target_v)"
   ]
  }
 ],
 "metadata": {
  "kernelspec": {
   "display_name": "Python 3",
   "language": "python",
   "name": "python3"
  },
  "language_info": {
   "codemirror_mode": {
    "name": "ipython",
    "version": 3
   },
   "file_extension": ".py",
   "mimetype": "text/x-python",
   "name": "python",
   "nbconvert_exporter": "python",
   "pygments_lexer": "ipython3",
   "version": "3.6.4"
  }
 },
 "nbformat": 4,
 "nbformat_minor": 2
}
