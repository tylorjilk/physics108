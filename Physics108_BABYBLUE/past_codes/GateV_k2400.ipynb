{
 "cells": [
  {
   "cell_type": "code",
   "execution_count": 10,
   "metadata": {},
   "outputs": [],
   "source": [
    "import numpy as np\n",
    "import visa\n",
    "import time\n",
    "GateStep = 1####\n",
    "GateDelay = 0.05\n",
    "# initialize k2400.\n",
    "def init2400(instr):\n",
    "    rm = visa.ResourceManager()\n",
    "    k2400 = rm.open_resource(instr)\n",
    "    # set various k2400 parameters; see k2400 manual for the full selection\n",
    "    k2400.write('SOUR:VOLT 0') # set voltage to zero\n",
    "    k2400.write('SOUR:VOLT:RANG 40') # set voltage range\n",
    "    k2400.write('FORM:ELEM VOLT, CURR') # set communications formatting \n",
    "    k2400.write('OUTP ON') # turn on output\n",
    "    k2400.write('CURR:PROT 1e-4') # set current compliance\n",
    "    return k2400\n",
    "\n",
    "# read dc current from k2400\n",
    "def Ireadk2400(k2400):\n",
    "    return k2400.query_ascii_values(\"MEAS:CURR?\")[1]\n",
    "def Vreadk2400(k2400):\n",
    "    return k2400.query_ascii_values(\"MEAS:VOLT?\")[0]\n",
    "\n",
    "\n",
    "# set dc voltage\n",
    "def set2400(k2400,target_v):\n",
    "    return k2400.write('SOUR:VOLT %1.6f'%target_v)\n",
    "\n",
    "# sweep the dc voltage to target_v in small voltage steps with a specified delay.\n",
    "# differs from set2400, which sets voltage as fast as the instrument will go.\n",
    "def sweep2400(k2400,target_v):\n",
    "    step  = GateStep\n",
    "    delay = GateDelay\n",
    "    cur_v = Vreadk2400(k2400)\n",
    "    while abs(cur_v-target_v) > step:\n",
    "        if cur_v < target_v:\n",
    "            set2400(k2400,cur_v+step)\n",
    "        else:\n",
    "            set2400(k2400,cur_v-step)\n",
    "        time.sleep(delay)\n",
    "        cur_v = Vreadk2400(k2400)\n",
    "    set2400(k2400,target_v)"
   ]
  },
  {
   "cell_type": "code",
   "execution_count": null,
   "metadata": {
    "collapsed": true
   },
   "outputs": [],
   "source": []
  }
 ],
 "metadata": {
  "anaconda-cloud": {},
  "kernelspec": {
   "display_name": "Python 3",
   "language": "python",
   "name": "python3"
  },
  "language_info": {
   "codemirror_mode": {
    "name": "ipython",
    "version": 3
   },
   "file_extension": ".py",
   "mimetype": "text/x-python",
   "name": "python",
   "nbconvert_exporter": "python",
   "pygments_lexer": "ipython3",
   "version": "3.6.4"
  }
 },
 "nbformat": 4,
 "nbformat_minor": 1
}
