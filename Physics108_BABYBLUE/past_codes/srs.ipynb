{
 "cells": [
  {
   "cell_type": "code",
   "execution_count": 2,
   "metadata": {},
   "outputs": [],
   "source": [
    "import numpy as np\n",
    "import visa\n",
    "SENS_to_sens = [2e-9,5e-9,1e-8,2e-8,5e-8,1e-7,2e-7,5e-7,1e-6,2e-6,5e-6,1e-5,2e-5,5e-5,1e-4,2e-4,5e-4,1e-3,2e-3,5e-3,1e-2,2e-2,5e-2,1e-1,2e-1,5e-1,1]\n",
    "OFLT_to_tc = [1e-5,3e-5,1e-4,3e-4,1e-3,3e-3,1e-2,3e-2,1e-1,3e-1,1,3,1e1,3e1,1e2,3e2,1e3,3e3,1e4,3e4]\n",
    "def initsrs(instr):\n",
    "    rm = visa.ResourceManager()\n",
    "    rm.list_resources()\n",
    "    return rm.open_resource(instr) \n",
    "\n",
    "# read X and Y from srs\n",
    "def readsrs(srs):\n",
    "    srs.query_ascii_values('SNAP?1,2')\n",
    "    meas=srs.query_ascii_values('SNAP?1,2')\n",
    "    print(meas)\n",
    "    return meas\n",
    "def auto_delay_read(srs,delay):\n",
    "    srs.write('AGAN')\n",
    "    time.sleep(delay)\n",
    "    return readsrs(srs)\n",
    "def fine_sweep_delay_read(srs,delay):\n",
    "    time.sleep(delay)\n",
    "    measR = abs(srs.query_ascii_values('OUTP?3')[0])\n",
    "    sens_num = int(srs.query_ascii_values('SENS?')[0])\n",
    "    sens_now=SENS_to_sens[sens_num]\n",
    "    srs.query_ascii_values('OFLT?')\n",
    "    tc=OFLT_to_tc[int(srs.query_ascii_values('OFLT?')[0])]\n",
    "    print('tc', tc)\n",
    "    meas=np.zeros(2)\n",
    "    if SENS_to_sens[sens_num]<measR:\n",
    "        #print(srs.query_ascii_values('OFLT?')[0])\n",
    "        while(SENS_to_sens[sens_num]<measR and sens_num<len(SENS_to_sens)):\n",
    "            sens_num = sens_num+1\n",
    "            srs.write('SENS %d'%(sens_num))\n",
    "  \n",
    "            time.sleep(20*tc)\n",
    "            measR=readsrs(srs)[0]\n",
    "        meas=readsrs(srs)\n",
    "    elif SENS_to_sens[sens_num-1]>measR:\n",
    "        set_sens_num = sens_num\n",
    "        while( set_sens_num>0 and SENS_to_sens[set_sens_num-1]>measR):\n",
    "            set_sens_num= set_sens_num -1\n",
    "        srs.write('SENS %d'%set_sens_num)\n",
    "        time.sleep(15*tc)\n",
    "        meas =readsrs(srs)\n",
    "    else:\n",
    "        meas=readsrs(srs)\n",
    "    #print(meas)\n",
    "    return meas\n",
    "\n",
    "def smart_auto_delay_read(srs,delay):\n",
    "    time.sleep(delay)\n",
    "    measR = srs.query_ascii_values('OUTP?3')[0]\n",
    "    sens_num = int(srs.query_ascii_values('SENS?')[0])\n",
    "    sens_now=SENS_to_sens[sens_num]\n",
    "    meas=np.zeros(2)\n",
    "    if SENS_to_sens[sens_num]<measR:\n",
    "        #print(srs.query_ascii_values('OFLT?')[0])\n",
    "        srs.query_ascii_values('OFLT?')\n",
    "        tc=OFLT_to_tc[int(srs.query_ascii_values('OFLT?')[0])]\n",
    "        print('tc', tc)\n",
    "        meas=auto_delay_read(srs,20*tc)\n",
    "    elif SENS_to_sens[sens_num-1]>measR:\n",
    "        set_sens_num = sens_num\n",
    "        while( set_sens_num>0 and SENS_to_sens[set_sens_num-1]>measR):\n",
    "            set_sens_num= set_sens_num -1\n",
    "        srs.write('SENS %d'%set_sens_num)\n",
    "    else:\n",
    "        meas=readsrs(srs)\n",
    "    #print(meas)\n",
    "    return meas\n",
    "      \n",
    "def autosrs(srs):\n",
    "    srs.write('ARSV')\n",
    "    srs.write('AGAN')\n",
    "    # can't do them the same time.\n",
    "    #print(srs.query_ascii_values('STB?'))\n",
    "\n",
    "\n",
    "\n",
    "\n",
    "#'SNAP i,j'# for 1X 2Y 3R 4 theta"
   ]
  },
  {
   "cell_type": "code",
   "execution_count": 6,
   "metadata": {},
   "outputs": [
    {
     "data": {
      "text/plain": [
       "30.0"
      ]
     },
     "execution_count": 6,
     "metadata": {},
     "output_type": "execute_result"
    }
   ],
   "source": [
    "OFLT_to_tc[13]"
   ]
  },
  {
   "cell_type": "code",
   "execution_count": null,
   "metadata": {},
   "outputs": [],
   "source": []
  }
 ],
 "metadata": {
  "anaconda-cloud": {},
  "kernelspec": {
   "display_name": "Python 3",
   "language": "python",
   "name": "python3"
  },
  "language_info": {
   "codemirror_mode": {
    "name": "ipython",
    "version": 3
   },
   "file_extension": ".py",
   "mimetype": "text/x-python",
   "name": "python",
   "nbconvert_exporter": "python",
   "pygments_lexer": "ipython3",
   "version": "3.6.4"
  }
 },
 "nbformat": 4,
 "nbformat_minor": 1
}
